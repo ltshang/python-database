{
 "cells": [
  {
   "cell_type": "code",
   "execution_count": 1,
   "metadata": {},
   "outputs": [
    {
     "name": "stdout",
     "output_type": "stream",
     "text": [
      "环境导入成功\n"
     ]
    }
   ],
   "source": [
    "import requests\n",
    "from bs4 import BeautifulSoup\n",
    "import pymysql\n",
    "print('环境导入成功')"
   ]
  },
  {
   "cell_type": "code",
   "execution_count": 2,
   "metadata": {},
   "outputs": [
    {
     "name": "stdout",
     "output_type": "stream",
     "text": [
      "已连接到数据库\n",
      "数据表已创建\n"
     ]
    }
   ],
   "source": [
    "db = pymysql.connect(host='localhost', user='####', password='#####', port=3306, db= 'test')\n",
    "cursor = db.cursor()\n",
    "print('已连接到数据库')\n",
    "sql = 'CREATE TABLE IF NOT EXISTS color (' +\\\n",
    "      'Color CHAR(20) NOT NULL, '+\\\n",
    "      'Value CHAR(10), '+\\\n",
    "      'Style CHAR(50))'\n",
    "cursor.execute(sql)\n",
    "print('数据表已创建')"
   ]
  },
  {
   "cell_type": "code",
   "execution_count": 4,
   "metadata": {},
   "outputs": [
    {
     "name": "stdout",
     "output_type": "stream",
     "text": [
      "爬取数据并插入mysql数据库完成...\n"
     ]
    }
   ],
   "source": [
    "hdrs = {'User-Agent':'Mozilla/5.0 (X11; Fedora; Linux x86_64) AppleWebKit/537.36 (KHTML, like Gecko)'}\n",
    "\n",
    "url = \"http://html-color-codes.info/color-names/\"\n",
    "\n",
    "r = requests.get(url, headers = hdrs)\n",
    "soup = BeautifulSoup(r.content.decode('gbk', 'ignore'), 'lxml')\n",
    "trs = soup.find_all('tr')   # 获取全部tr标签成为一个列表\n",
    "for tr in trs:              # 遍历列表里所有的tr标签单项\n",
    "    style = tr.get('style') # 获取每个tr标签里的属性style\n",
    "    tds = tr.find_all('td') # 将每个tr标签下的td标签获取为列表\n",
    "    td = [x for x in tds]   # 获取的列表\n",
    "    name = td[1].text.strip()       # 直接从列表里取值\n",
    "    hex = td[2].text.strip()\n",
    "    # print u'颜色: ' + name + u'颜色值: '+ hex + u'背景色样式: ' + style\n",
    "    # print 'color: ' + name + '\\tvalue: '+ hex + '\\tstyle: ' + style\n",
    "    insert_color = (\"INSERT INTO color(Color,Value,Style)\" \"VALUES(%s,%s,%s)\")\n",
    "    data_color = (name, hex, style)\n",
    "    cursor.execute(insert_color, data_color)\n",
    "    db.commit()\n",
    "    # print '******完成此条插入!' \n",
    "\n",
    "print('爬取数据并插入mysql数据库完成...')"
   ]
  },
  {
   "cell_type": "code",
   "execution_count": null,
   "metadata": {},
   "outputs": [],
   "source": []
  }
 ],
 "metadata": {
  "kernelspec": {
   "display_name": "Python 3",
   "language": "python",
   "name": "python3"
  },
  "language_info": {
   "codemirror_mode": {
    "name": "ipython",
    "version": 3
   },
   "file_extension": ".py",
   "mimetype": "text/x-python",
   "name": "python",
   "nbconvert_exporter": "python",
   "pygments_lexer": "ipython3",
   "version": "3.7.0"
  }
 },
 "nbformat": 4,
 "nbformat_minor": 2
}
