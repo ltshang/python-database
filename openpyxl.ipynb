{
 "cells": [
  {
   "cell_type": "code",
   "execution_count": 14,
   "metadata": {},
   "outputs": [],
   "source": [
    "from openpyxl import Workbook\n",
    "from openpyxl.styles import Font\n",
    "wb=Workbook()\n",
    "\n",
    "\n",
    "# 获取活动工作表\n",
    "\n",
    "ws=wb.active\n",
    "\n",
    "# 直接将数据输入到指定单元格\n",
    "italic32Font = Font(name = '微软雅黑',size = 32,bold = True,italic = False)\n",
    "ws['A1'].font = italic32Font\n",
    "ws['A1'] = \"完美Excel\"\n",
    "\n",
    " \n",
    "\n",
    "# 在最后数据行后一次添加多个数据\n",
    "\n",
    "ws.append([1,2,3])\n",
    "\n",
    "# 在指定单元格中输入当前时间\n",
    "\n",
    "import datetime\n",
    "\n",
    "ws['A3']=datetime.datetime.now()\n",
    "\n",
    "# 在当前文件夹中保存文件\n",
    "\n",
    "wb.save(\"sample.xlsx\")"
   ]
  },
  {
   "cell_type": "code",
   "execution_count": 15,
   "metadata": {},
   "outputs": [],
   "source": [
    "from openpyxl import Workbook\n",
    "\n",
    "wb= Workbook()\n",
    "\n",
    "ws= wb.active\n",
    "\n",
    "for i in range(10):\n",
    "\n",
    "    ws.append([i])\n",
    "\n",
    " \n",
    "\n",
    "from openpyxl.chart import BarChart, Reference, Series\n",
    "\n",
    "values= Reference(ws, min_col=1, min_row=1, max_col=1, max_row=10)\n",
    "\n",
    "chart= BarChart()\n",
    "\n",
    "chart.add_data(values)\n",
    "\n",
    "ws.add_chart(chart,\"B2\")\n",
    "\n",
    "wb.save(\"SampleChart.xlsx\")"
   ]
  },
  {
   "cell_type": "code",
   "execution_count": null,
   "metadata": {},
   "outputs": [],
   "source": []
  }
 ],
 "metadata": {
  "kernelspec": {
   "display_name": "Python 3",
   "language": "python",
   "name": "python3"
  },
  "language_info": {
   "codemirror_mode": {
    "name": "ipython",
    "version": 3
   },
   "file_extension": ".py",
   "mimetype": "text/x-python",
   "name": "python",
   "nbconvert_exporter": "python",
   "pygments_lexer": "ipython3",
   "version": "3.7.0"
  }
 },
 "nbformat": 4,
 "nbformat_minor": 2
}
