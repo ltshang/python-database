{
 "cells": [
  {
   "cell_type": "code",
   "execution_count": 24,
   "metadata": {},
   "outputs": [],
   "source": [
    "import cx_Oracle\n",
    "db=cx_Oracle.connect('training_data/a123456@127.0.0.1:1521/orcl')\n",
    "\n",
    "#连接数据库，下面括号里内容根据自己实际情况填写\n",
    "#conn = cx_Oracle.connect('用户名/密码@IP:端口号/SERVICE_NAME')"
   ]
  },
  {
   "cell_type": "code",
   "execution_count": 25,
   "metadata": {},
   "outputs": [
    {
     "name": "stdout",
     "output_type": "stream",
     "text": [
      "[('zhangsan',), ('lisi',), ('wangwu',)]\n"
     ]
    }
   ],
   "source": [
    "# 使用cursor()方法获取操作游标\n",
    "cursor = db.cursor()\n",
    "#使用execute方法执行SQL语句\n",
    "result=cursor.execute('Select name from t_student')\n",
    "#使用fetchone()方法获取一条数据\n",
    "#data=cursor.fetchone()\n",
    " \n",
    "#获取所有数据\n",
    "all_data=cursor.fetchall()\n",
    " \n",
    "#获取部分数据，8条\n",
    "#many_data=cursor.fetchmany(8)\n",
    " \n",
    "print (all_data)\n",
    "db.close()"
   ]
  },
  {
   "cell_type": "code",
   "execution_count": null,
   "metadata": {},
   "outputs": [],
   "source": []
  }
 ],
 "metadata": {
  "kernelspec": {
   "display_name": "Python 3",
   "language": "python",
   "name": "python3"
  },
  "language_info": {
   "codemirror_mode": {
    "name": "ipython",
    "version": 3
   },
   "file_extension": ".py",
   "mimetype": "text/x-python",
   "name": "python",
   "nbconvert_exporter": "python",
   "pygments_lexer": "ipython3",
   "version": "3.7.0"
  }
 },
 "nbformat": 4,
 "nbformat_minor": 2
}
