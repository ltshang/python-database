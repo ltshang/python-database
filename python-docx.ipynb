{
 "cells": [
  {
   "cell_type": "code",
   "execution_count": 1,
   "metadata": {},
   "outputs": [],
   "source": [
    "import docx"
   ]
  },
  {
   "cell_type": "code",
   "execution_count": 6,
   "metadata": {},
   "outputs": [],
   "source": [
    "#cd C:\\User\\Gauss\\Desktop\n",
    "#%mkdir python_docx\n",
    "#cd python_docx\n",
    "\n",
    "from docx import Document\n",
    "document = Document()\n",
    "document.save('test.docx')"
   ]
  },
  {
   "cell_type": "code",
   "execution_count": null,
   "metadata": {},
   "outputs": [],
   "source": [
    "document = Document('E:\\400 Jupyter\\8 工作相关\\test.docx')\n",
    "document.save('test1.docx')"
   ]
  },
  {
   "cell_type": "code",
   "execution_count": 7,
   "metadata": {},
   "outputs": [
    {
     "name": "stderr",
     "output_type": "stream",
     "text": [
      "D:\\Anaconda3\\lib\\site-packages\\docx\\styles\\styles.py:139: UserWarning: style lookup by style_id is deprecated. Use style name as key instead.\n",
      "  return self._get_style_id_from_style(self[style_name], style_type)\n"
     ]
    }
   ],
   "source": [
    "# 导入相关库\n",
    "from docx import Document\n",
    "from docx.shared import Inches\n",
    "\n",
    "document = Document() # 简历Word文档\n",
    "\n",
    "document.add_heading('标题行', 0) # 增加标题行\n",
    "\n",
    "# 输入一段\n",
    "p = document.add_paragraph('正常字体输入 ')\n",
    "p.add_run('加黑').bold = True\n",
    "p.add_run('以及')\n",
    "p.add_run('斜体').italic = True \n",
    "\n",
    "document.add_heading('一级标题', level=1) # 增加二级标题\n",
    "document.add_paragraph('紧致文本', style='IntenseQuote')\n",
    "\n",
    "document.add_paragraph('非编号列表', style='ListBullet') # 增加一个非编号列表\n",
    "document.add_paragraph('编号类列表', style='ListNumber') # 增加一个编号类列表\n",
    "\n",
    "document.add_picture('1.jpg', width=Inches(5.25)) # 增加一张图片\n",
    "\n",
    "# 增加一个表格\n",
    "table = document.add_table(rows=3, cols=3)\n",
    "hdr_cells = table.rows[0].cells\n",
    "hdr_cells[0].text = 'Qty'\n",
    "hdr_cells[1].text = 'Id'\n",
    "hdr_cells[2].text = 'Desc'\n",
    "\n",
    "hdr_cells = table.rows[1].cells\n",
    "hdr_cells[0].text = '2'\n",
    "hdr_cells[1].text = 'aerszvfdgx'\n",
    "hdr_cells[2].text = 'abdzfgxfdf'\n",
    "\n",
    "hdr_cells = table.rows[2].cells\n",
    "hdr_cells[0].text = '3'\n",
    "hdr_cells[1].text = 'cafdwvaef'\n",
    "hdr_cells[2].text = 'aabs zfgf'\n",
    "\n",
    "document.add_page_break() # 增加分页符\n",
    "\n",
    "document.save('python_docx简介.docx') # 保存文档"
   ]
  },
  {
   "cell_type": "code",
   "execution_count": null,
   "metadata": {},
   "outputs": [],
   "source": []
  }
 ],
 "metadata": {
  "kernelspec": {
   "display_name": "Python 3",
   "language": "python",
   "name": "python3"
  },
  "language_info": {
   "codemirror_mode": {
    "name": "ipython",
    "version": 3
   },
   "file_extension": ".py",
   "mimetype": "text/x-python",
   "name": "python",
   "nbconvert_exporter": "python",
   "pygments_lexer": "ipython3",
   "version": "3.7.0"
  }
 },
 "nbformat": 4,
 "nbformat_minor": 2
}
